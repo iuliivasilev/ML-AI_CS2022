{
  "nbformat": 4,
  "nbformat_minor": 0,
  "metadata": {
    "colab": {
      "name": "ЗаданиеML&AI_CS2022.ipynb",
      "provenance": [],
      "collapsed_sections": []
    },
    "kernelspec": {
      "name": "python3",
      "display_name": "Python 3"
    },
    "language_info": {
      "name": "python"
    }
  },
  "cells": [
    {
      "cell_type": "markdown",
      "source": [
        "### Данная работа выполнена в рамках спецкурса \"ML&AI_CS 2022\" ВМК МГУ.\n",
        "### **Автор работы:** Васильев Юлий Алекссевич, 620 группа.\n",
        "\n",
        "#### В работе проводится анализ набора данных, предназначенного для области анализа выживаемости. \n",
        "\n",
        "---\n",
        "\n",
        "Область анализа выживаемости изучает методы оценки времени и вероятности до наступления определенного события. \n",
        "\n",
        "Для соблюдения рамок материалов курса, в работе проводится анализ как бинарной целевой переменной исхода пациента, так и времени наступления события."
      ],
      "metadata": {
        "id": "tod3WPtJn6he"
      }
    },
    {
      "cell_type": "markdown",
      "source": [
        "### Импорт библиотек"
      ],
      "metadata": {
        "id": "BvlBvTDIn371"
      }
    },
    {
      "cell_type": "code",
      "execution_count": 1,
      "metadata": {
        "id": "VB-0IuuFnwtp"
      },
      "outputs": [],
      "source": [
        "# Импорт библиотек для проведения расчетов\n",
        "import pandas as pd\n",
        "import numpy as np\n",
        "import re\n",
        "from sklearn.preprocessing import StandardScaler\n",
        "from sklearn.metrics import roc_auc_score\n",
        "from sklearn.metrics import mean_squared_error"
      ]
    },
    {
      "cell_type": "code",
      "source": [
        "# Импорт библиотек для визуализации\n",
        "from matplotlib import pyplot as plt\n",
        "import seaborn as sns"
      ],
      "metadata": {
        "id": "waEHhJ88dGHf"
      },
      "execution_count": 2,
      "outputs": []
    },
    {
      "cell_type": "markdown",
      "source": [
        "## Загрузка данных"
      ],
      "metadata": {
        "id": "E79qR3s7n_1X"
      }
    },
    {
      "cell_type": "markdown",
      "source": [
        "Набор данных, собранный c 10 января по 18 февраля 2020 года, был представлен в статье: https://www.nature.com/articles/s42256-020-0180-7. В качестве события рассматривается время выписки пациента.\n",
        " \n",
        "Набор данных содержит **375** наблюдений и **76** признаков по:\n",
        "*   Анамнезу\n",
        "*   Результатам клинических исследований за время лечения\n"
      ],
      "metadata": {
        "id": "9Fr7HGnlmjl9"
      }
    },
    {
      "cell_type": "code",
      "source": [
        "dataset_covid = '/content/covid.xlsx'\n",
        "df = pd.read_excel(dataset_covid)"
      ],
      "metadata": {
        "id": "UxWfRs_0gXc5"
      },
      "execution_count": 3,
      "outputs": []
    },
    {
      "cell_type": "markdown",
      "source": [
        "## Формирование признакового пространства"
      ],
      "metadata": {
        "id": "wx7GDz6CqydR"
      }
    },
    {
      "cell_type": "markdown",
      "source": [
        "Пространство признаков формируется из **минимальных, максимальных и средних** показателей клинических исследований пациента. \n",
        "\n",
        "Все признаки набора данных могут содержать пропуски, максимальное количество пропусков имеется в показателях антитромбина и продуктах распада фибрина (173 пропуска). В конце исследования было зафиксировано 174 пациента, которые не были выписаны."
      ],
      "metadata": {
        "id": "AKcFvUo9qs0g"
      }
    },
    {
      "cell_type": "code",
      "source": [
        "# Функция построения целевой переменной для анализа выживаемости\n",
        "def get_y(cens,time):\n",
        "    cens, time = np.array(cens), np.array(time) \n",
        "    y = np.empty(dtype=[('cens', bool), \n",
        "                        ('time', np.float64)], \n",
        "                 shape=cens.shape[0])\n",
        "    y['cens'] = cens\n",
        "    y['time'] = time\n",
        "    return y"
      ],
      "metadata": {
        "id": "ZR6hTqdoq9yd"
      },
      "execution_count": 4,
      "outputs": []
    },
    {
      "cell_type": "code",
      "source": [
        "df['PATIENT_ID'] = df['PATIENT_ID'].fillna(method = 'ffill')\n",
        "columns_no_agg = ['RE_DATE','age','gender','Admission time','Discharge time','outcome']\n",
        "columns_agg = list(set(df.columns) - set(columns_no_agg))\n",
        "df_agg = df.groupby('PATIENT_ID').agg(list)\n",
        "for c in df_agg.columns:\n",
        "    if c in columns_no_agg:\n",
        "        df_agg[c] = df_agg[c].apply(lambda x: x[0])\n",
        "    else:\n",
        "        df_agg['mean_' + c] = df_agg[c].apply(np.nanmean)\n",
        "        df_agg['min_' + c] = df_agg[c].apply(np.nanmin)\n",
        "        df_agg['max_' + c] = df_agg[c].apply(np.nanmax)\n",
        "        df_agg = df_agg.drop(c, axis = 1)\n",
        "df_agg['time'] = df_agg.loc[:,['Admission time','Discharge time']].apply(lambda x: (x['Discharge time'] - x['Admission time']).days, axis = 1)\n",
        "df_f = df_agg[df_agg['time'] == df_agg['time']]\n",
        "df_f = df_f.drop(['RE_DATE', 'Admission time', 'Discharge time'], axis = 1)\n",
        "df_f = df_f.rename({'outcome':'cens'}, axis = 1)\n",
        "df_f = df_f.rename({c:re.sub('[^A-Za-z0-9_]', '_', c) for c in df_f.columns}, axis = 1)\n",
        "df_f = df_f.reset_index(drop=True)\n",
        "\n",
        "categ_covid = []\n",
        "sign_covid = list(set(df_f) - {'cens', 'time'})\n",
        "\n",
        "y = get_y(df_f['cens'], df_f['time'])\n",
        "y_time = y['time'].copy()\n",
        "y_cens = y['cens'].copy()\n",
        "X = df_f.loc[:, sign_covid]\n",
        "X = X.fillna(0)"
      ],
      "metadata": {
        "id": "jtYmPhhDoCQI",
        "colab": {
          "base_uri": "https://localhost:8080/"
        },
        "outputId": "98a34c83-8cd0-443d-d497-b886006c9575"
      },
      "execution_count": 5,
      "outputs": [
        {
          "output_type": "stream",
          "name": "stderr",
          "text": [
            "/usr/local/lib/python3.7/dist-packages/pandas/core/apply.py:1101: RuntimeWarning: Mean of empty slice\n",
            "  convert=self.convert_dtype,\n",
            "/usr/local/lib/python3.7/dist-packages/pandas/core/apply.py:1101: RuntimeWarning: All-NaN axis encountered\n",
            "  convert=self.convert_dtype,\n"
          ]
        }
      ]
    },
    {
      "cell_type": "code",
      "source": [
        "import warnings\n",
        "warnings.filterwarnings('ignore')"
      ],
      "metadata": {
        "id": "tj-wIUZk6JDC"
      },
      "execution_count": 6,
      "outputs": []
    },
    {
      "cell_type": "markdown",
      "source": [
        "### Анализ исходов пациентов (классификация)"
      ],
      "metadata": {
        "id": "YM8VcOa-iaJ8"
      }
    },
    {
      "cell_type": "markdown",
      "source": [
        "*   Целевая переменная: исход пациента (1 - выписан, 0 - цензурирован (умер или покинул исследование))\n",
        "\n",
        "*   Обработка: стандартизация\n",
        "\n",
        "*   Отбор признаков: Backward\n",
        "\n",
        "*   Рассматриваемые модели: LogisticRegression, KNN, SVM\n",
        "\n",
        "*   Метрика качества: ROC-AUC"
      ],
      "metadata": {
        "id": "4vqV914vtcR4"
      }
    },
    {
      "cell_type": "code",
      "source": [
        "from sklearn.model_selection import train_test_split\n",
        "X_train, X_test, y_train, y_test = train_test_split(X, y_cens, stratify = y_cens, test_size=0.3, random_state=42)\n",
        "\n",
        "scaler = StandardScaler()\n",
        "X_train.values[:] = scaler.fit_transform(X_train)\n",
        "X_test.values[:] = scaler.transform(X_test)"
      ],
      "metadata": {
        "id": "1DvvTi3Aj0_4"
      },
      "execution_count": null,
      "outputs": []
    },
    {
      "cell_type": "code",
      "source": [
        "from sklearn.linear_model import LinearRegression\n",
        "from sklearn.linear_model import LogisticRegression\n",
        "import statsmodels.api as sm\n",
        "\n",
        "# Определим лучшее число признаков с помощью Backward \n",
        "def feature_selection(X_train, y_train):\n",
        "    X_tr, X_val, y_tr, y_val = train_test_split(X_train.to_numpy(), y_train, stratify = y_train, test_size=0.3, random_state=42)\n",
        "    best_feats = None\n",
        "    features = list(range(X_tr.shape[1]))\n",
        "    errs = []\n",
        "    while len(features) > 0:\n",
        "        lr = LogisticRegression()\n",
        "        lr.fit(X_tr[:, features], y_tr)\n",
        "        err = mean_squared_error(y_val, lr.predict_proba(X_val[:, features])[:,1])\n",
        "        errs.append(err)\n",
        "        if min(errs) == err:\n",
        "            best_feats = features.copy()\n",
        "\n",
        "        model = sm.OLS(y_tr, X_tr[:, features])\n",
        "        res = model.fit()\n",
        "\n",
        "        # Выбираем худший признак и удаляем из пространства признаков\n",
        "        worse_feature = features[np.argmax(res.pvalues)]\n",
        "        features.remove(worse_feature)\n",
        "\n",
        "    # Визуализируем ошибки\n",
        "    idx = len(errs) - len(best_feats)\n",
        "    plt.plot(errs)\n",
        "    plt.plot(idx, errs[idx], 'P', ms=10, mfc='red')\n",
        "    plt.xlabel(\"Номер итерации\")\n",
        "    plt.ylabel(\"MSE\")\n",
        "    plt.title(\"Ошибка при отборе признаков методом Backward\")\n",
        "    plt.show()\n",
        "    return X_train.columns[best_feats]\n",
        "best_feats = feature_selection(X_train, y_train)\n",
        "print(\"BEST FEATURES: \", best_feats)"
      ],
      "metadata": {
        "colab": {
          "base_uri": "https://localhost:8080/",
          "height": 382
        },
        "id": "-za5j02VtNY0",
        "outputId": "eae2940b-32e0-439f-f231-dcb9bcf67d00"
      },
      "execution_count": null,
      "outputs": [
        {
          "output_type": "display_data",
          "data": {
            "text/plain": [
              "<Figure size 432x288 with 1 Axes>"
            ],
            "image/png": "[encoded data removed]"
          },
          "metadata": {
            "needs_background": "light"
          }
        },
        {
          "output_type": "stream",
          "name": "stdout",
          "text": [
            "BEST FEATURES:  Index(['age', 'mean_D_D_dimer', 'min_Platelet_count', 'min_neutrophils___',\n",
            "       'max_Alkaline_phosphatase', 'mean_Alkaline_phosphatase',\n",
            "       'min_Hypersensitive_c_reactive_protein',\n",
            "       'mean_mean_corpuscular_volume'],\n",
            "      dtype='object')\n"
          ]
        }
      ]
    },
    {
      "cell_type": "code",
      "source": [
        "model = LogisticRegression()\n",
        "model.fit(X_train, y_train)\n",
        "print(\"LogisticRegression. ROC-AUC: \", roc_auc_score(y_test, model.predict_proba(X_test)[:,1]))\n",
        "\n",
        "model = LogisticRegression()\n",
        "model.fit(X_train.loc[:, best_feats], y_train)\n",
        "print(\"LogisticRegression + Selection. ROC-AUC: \", roc_auc_score(y_test, model.predict_proba(X_test.loc[:, best_feats])[:,1]))"
      ],
      "metadata": {
        "colab": {
          "base_uri": "https://localhost:8080/"
        },
        "id": "FqH7Aycq37f7",
        "outputId": "45dca76a-4ec2-46da-f552-fcea693f316a"
      },
      "execution_count": null,
      "outputs": [
        {
          "output_type": "stream",
          "name": "stdout",
          "text": [
            "LogisticRegression. ROC-AUC:  0.9735182849936947\n",
            "LogisticRegression + Selection. ROC-AUC:  0.9877049180327868\n"
          ]
        }
      ]
    },
    {
      "cell_type": "code",
      "source": [
        "from sklearn.neighbors import KNeighborsClassifier\n",
        "\n",
        "for k in [3, 5, 10, 15, 20]:\n",
        "    model = KNeighborsClassifier(n_neighbors=k)\n",
        "    model.fit(X_train, y_train)\n",
        "    print(f\"KNeighborsClassifier (K = {k}). ROC-AUC: \", roc_auc_score(y_test, model.predict_proba(X_test)[:,1]))\n",
        "\n",
        "    model = KNeighborsClassifier(n_neighbors=k)\n",
        "    model.fit(X_train.loc[:, best_feats], y_train)\n",
        "    print(f\"KNeighborsClassifier + Selection(K = {k}). ROC-AUC: \", roc_auc_score(y_test, model.predict_proba(X_test.loc[:, best_feats])[:,1]))"
      ],
      "metadata": {
        "colab": {
          "base_uri": "https://localhost:8080/"
        },
        "id": "OArKz2-whitJ",
        "outputId": "36a46bf9-8f7a-48de-e56b-280f4ad6cd4a"
      },
      "execution_count": null,
      "outputs": [
        {
          "output_type": "stream",
          "name": "stdout",
          "text": [
            "KNeighborsClassifier (K = 3). ROC-AUC:  0.9404161412358135\n",
            "KNeighborsClassifier + Selection(K = 3). ROC-AUC:  0.9670554854981085\n",
            "KNeighborsClassifier (K = 5). ROC-AUC:  0.9497162673392181\n",
            "KNeighborsClassifier + Selection(K = 5). ROC-AUC:  0.9720996216897856\n",
            "KNeighborsClassifier (K = 10). ROC-AUC:  0.9487704918032787\n",
            "KNeighborsClassifier + Selection(K = 10). ROC-AUC:  0.9700504413619168\n",
            "KNeighborsClassifier (K = 15). ROC-AUC:  0.9495586380832283\n",
            "KNeighborsClassifier + Selection(K = 15). ROC-AUC:  0.9777742749054226\n",
            "KNeighborsClassifier (K = 20). ROC-AUC:  0.9557061790668347\n",
            "KNeighborsClassifier + Selection(K = 20). ROC-AUC:  0.9706809583858764\n"
          ]
        }
      ]
    },
    {
      "cell_type": "code",
      "source": [
        "from sklearn.svm import SVC\n",
        "\n",
        "for kernel in ['linear', 'poly', 'rbf']:\n",
        "    model = SVC(kernel = kernel, gamma='auto', probability=True)\n",
        "    model.fit(X_train, y_train)\n",
        "    print(f\"SVM (kernel = {kernel}). ROC-AUC: \", roc_auc_score(y_test, model.predict_proba(X_test)[:,1]))\n",
        "\n",
        "    model = SVC(kernel = kernel, gamma='auto', probability=True)\n",
        "    model.fit(X_train.loc[:, best_feats], y_train)\n",
        "    print(f\"SVM + Selection(kernel = {kernel}). ROC-AUC: \", roc_auc_score(y_test, model.predict_proba(X_test.loc[:, best_feats])[:,1]))"
      ],
      "metadata": {
        "colab": {
          "base_uri": "https://localhost:8080/"
        },
        "id": "_82UPGt889v9",
        "outputId": "4dd0c5d5-7570-474d-dbe4-8e175c022223"
      },
      "execution_count": null,
      "outputs": [
        {
          "output_type": "stream",
          "name": "stdout",
          "text": [
            "SVM (kernel = linear). ROC-AUC:  0.9722572509457756\n",
            "SVM + Selection(kernel = linear). ROC-AUC:  0.9886506935687264\n",
            "SVM (kernel = poly). ROC-AUC:  0.905422446406053\n",
            "SVM + Selection(kernel = poly). ROC-AUC:  0.9672131147540983\n",
            "SVM (kernel = rbf). ROC-AUC:  0.5343631778058009\n",
            "SVM + Selection(kernel = rbf). ROC-AUC:  0.6592055485498108\n"
          ]
        }
      ]
    },
    {
      "cell_type": "markdown",
      "source": [
        "Выводы:\n",
        "\n",
        "1.   После отбора осталось всего 8 признаков. Признаки выглядят логично: в врачебной практике очень часто важны признаки CRB, D-dimer и возраст.\n",
        "2.   Предварительный отбор признаков для всех моделей повысил качество прогноза на тестовой выборке. \n",
        "3.   Лучшее качество прогноза достигнуто на модели опорных векторов, однако при смене ядра прогноз модели нестабилен.\n",
        "\n",
        "Топ-3 модели прогозирования исхода пациента:\n",
        "> **SVM + Selection(kernel = linear). ROC-AUC:  0.98865** \n",
        "\n",
        "> **LogisticRegression + Selection. ROC-AUC:  0.98770** \n",
        "\n",
        "> **KNeighborsClassifier + Selection(K = 15). ROC-AUC:  0.97777** "
      ],
      "metadata": {
        "id": "VXgDBA-M-quu"
      }
    },
    {
      "cell_type": "markdown",
      "source": [
        "## Анализ времени выписки пациентов (регрессия)"
      ],
      "metadata": {
        "id": "0U5K_w-tBhs9"
      }
    },
    {
      "cell_type": "markdown",
      "source": [
        "*   Целевая переменная: время выписки пациента (или до момента цензурирования)\n",
        "\n",
        "*   Обработка: стандартизация (и признаков, и отклика)\n",
        "\n",
        "*   Отбор признаков: Forward с LinearRegression\n",
        "\n",
        "*   Рассматриваемые модели: LinearRegression, KNN\n",
        "\n",
        "*   Метрика качества: MSE"
      ],
      "metadata": {
        "id": "_jVGl1mIBqNh"
      }
    },
    {
      "cell_type": "code",
      "source": [
        "from sklearn.model_selection import train_test_split\n",
        "X_train, X_test, y_train, y_test = train_test_split(X, y_time, test_size=0.3, random_state=42)\n",
        "\n",
        "scaler = StandardScaler()\n",
        "X_train.values[:] = scaler.fit_transform(X_train)\n",
        "X_test.values[:] = scaler.transform(X_test)\n",
        "\n",
        "y_scaler = StandardScaler()\n",
        "y_train = y_scaler.fit_transform(y_train.reshape(-1,1)).reshape(1,-1)[0]\n",
        "y_test = y_scaler.transform(y_test.reshape(-1,1)).reshape(1,-1)[0]"
      ],
      "metadata": {
        "id": "z8V14OC0B0dr"
      },
      "execution_count": 20,
      "outputs": []
    },
    {
      "cell_type": "code",
      "source": [
        "from sklearn.linear_model import LinearRegression\n",
        "from sklearn.linear_model import LogisticRegression\n",
        "import statsmodels.api as sm\n",
        "\n",
        "# Определим лучшее число признаков с помощью Forward \n",
        "def feature_selection(X_train, y_train):\n",
        "    X_tr, X_val, y_tr, y_val = train_test_split(X_train.to_numpy(), y_train, test_size=0.3, random_state=42)\n",
        "    best_feats = None\n",
        "    sec_features = []\n",
        "    features = list(range(X_tr.shape[1]))\n",
        "    errs = []\n",
        "    while len(features) > 0:\n",
        "        model = sm.OLS(y_tr, X_tr[:, features])\n",
        "        res = model.fit()\n",
        "\n",
        "        # Выбираем лучший признак и добавляем в пространство признаков\n",
        "        best_feature = features[np.argmin(res.pvalues)]\n",
        "        sec_features.append(best_feature)\n",
        "        features.remove(best_feature)\n",
        "\n",
        "        lr = LinearRegression()\n",
        "        lr.fit(X_tr[:, sec_features], y_tr)\n",
        "        err = mean_squared_error(y_val, lr.predict(X_val[:, sec_features]))\n",
        "        errs.append(err)\n",
        "        if min(errs) == err:\n",
        "            best_feats = sec_features.copy()\n",
        "\n",
        "    # Визуализируем ошибки\n",
        "    idx = len(errs) - len(best_feats)\n",
        "    plt.plot(errs)\n",
        "    plt.plot(idx, errs[idx], 'P', ms=10, mfc='red')\n",
        "    plt.xlabel(\"Номер итерации\")\n",
        "    plt.ylabel(\"MSE\")\n",
        "    plt.title(\"Ошибка при отборе признаков методом Backward\")\n",
        "    plt.show()\n",
        "    return X_train.columns[best_feats]\n",
        "best_feats = feature_selection(X_train, y_train)\n",
        "print(\"BEST FEATURES: \", best_feats)"
      ],
      "metadata": {
        "colab": {
          "base_uri": "https://localhost:8080/",
          "height": 712
        },
        "id": "Uk37MOadB-OX",
        "outputId": "b97a2bf7-c9fb-43bc-ca71-5fee3cc4a9fc"
      },
      "execution_count": 26,
      "outputs": [
        {
          "output_type": "display_data",
          "data": {
            "text/plain": [
              "<Figure size 432x288 with 1 Axes>"
            ],
            "image/png": "[encoded data removed]"
          },
          "metadata": {
            "needs_background": "light"
          }
        },
        {
          "output_type": "stream",
          "name": "stdout",
          "text": [
            "BEST FEATURES:  Index(['min_Fibrin_degradation_products', 'max_Alkaline_phosphatase',\n",
            "       'min_glucose', 'mean_HIV_antibody_quantification',\n",
            "       'min_HIV_antibody_quantification', 'max_HIV_antibody_quantification',\n",
            "       'mean_fibrinogen', 'mean_basophil_count___', 'max_basophil_count___',\n",
            "       'min_lymphocyte_count', 'max_Platelet_count', 'min_basophil_count___',\n",
            "       'max_HBsAg', 'min_Eosinophil_count', 'mean_Mean_platelet_volume',\n",
            "       'max_Activation_of_partial_thromboplastin_time', 'min_monocytes_count',\n",
            "       'mean_mean_corpuscular_hemoglobin_', 'min_HBsAg',\n",
            "       'mean_Serum_potassium', 'max_International_standard_ratio',\n",
            "       'mean_Eosinophil_count', 'mean_Total_cholesterol',\n",
            "       'mean_lymphocyte_count', 'mean_calcium',\n",
            "       'max_HCV_antibody_quantification',\n",
            "       'min_Quantification_of_Treponema_pallidum_antibodies',\n",
            "       'mean_Quantification_of_Treponema_pallidum_antibodies',\n",
            "       'max_Eosinophil_count', 'mean_thrombocytocrit', 'max_Thrombin_time',\n",
            "       'mean_albumin', 'max_Corrected_calcium', 'mean_PH_value',\n",
            "       'max_platelet_large_cell_ratio_', 'min_Red_blood_cell_count',\n",
            "       'mean_Corrected_calcium', 'min_Corrected_calcium',\n",
            "       'min_thrombocytocrit',\n",
            "       'max_Quantification_of_Treponema_pallidum_antibodies',\n",
            "       'min_mean_corpuscular_volume', 'min_basophil___',\n",
            "       'min_mean_corpuscular_hemoglobin_concentration', 'min_eosinophils___',\n",
            "       'max_Urea', 'max_basophil___', 'age'],\n",
            "      dtype='object')\n"
          ]
        }
      ]
    },
    {
      "cell_type": "code",
      "source": [
        "model = LinearRegression()\n",
        "model.fit(X_train, y_train)\n",
        "print(\"LinearRegression. MSE: \", mean_squared_error(y_test, model.predict(X_test)))\n",
        "\n",
        "model = LinearRegression()\n",
        "model.fit(X_train.loc[:, best_feats], y_train)\n",
        "print(\"LinearRegression + Selection. MSE: \", mean_squared_error(y_test, model.predict(X_test.loc[:, best_feats])))"
      ],
      "metadata": {
        "colab": {
          "base_uri": "https://localhost:8080/"
        },
        "id": "fU08_K1aGMUA",
        "outputId": "84069d2a-e155-456d-bbd0-7fd5e03bcde8"
      },
      "execution_count": 30,
      "outputs": [
        {
          "output_type": "stream",
          "name": "stdout",
          "text": [
            "LinearRegression. MSE:  2621803556753615.5\n",
            "LinearRegression + Selection. MSE:  0.7998589966253797\n"
          ]
        }
      ]
    },
    {
      "cell_type": "code",
      "source": [
        "from sklearn.neighbors import KNeighborsRegressor\n",
        "\n",
        "for k in [3, 5, 10, 15, 20]:\n",
        "    model = KNeighborsRegressor(n_neighbors=k)\n",
        "    model.fit(X_train, y_train)\n",
        "    print(f\"KNeighborsRegressor (K = {k}). MSE: \", mean_squared_error(y_test, model.predict(X_test)))\n",
        "\n",
        "    model = KNeighborsRegressor(n_neighbors=k)\n",
        "    model.fit(X_train.loc[:, best_feats], y_train)\n",
        "    print(f\"KNeighborsRegressor (K = {k}) + Selection. MSE: \", mean_squared_error(y_test, model.predict(X_test.loc[:, best_feats])))"
      ],
      "metadata": {
        "colab": {
          "base_uri": "https://localhost:8080/"
        },
        "id": "qreQx3GwGiYg",
        "outputId": "ed3fe3e0-94c5-4c19-8ff5-59bfd9ca583e"
      },
      "execution_count": 32,
      "outputs": [
        {
          "output_type": "stream",
          "name": "stdout",
          "text": [
            "KNeighborsRegressor (K = 3). MSE:  0.6496159262419812\n",
            "KNeighborsRegressor (K = 3) + Selection. MSE:  0.777973583291216\n",
            "KNeighborsRegressor (K = 5). MSE:  0.5531411902855856\n",
            "KNeighborsRegressor (K = 5) + Selection. MSE:  0.6492896701652761\n",
            "KNeighborsRegressor (K = 10). MSE:  0.5147226586197076\n",
            "KNeighborsRegressor (K = 10) + Selection. MSE:  0.5444055429342657\n",
            "KNeighborsRegressor (K = 15). MSE:  0.5090308677460169\n",
            "KNeighborsRegressor (K = 15) + Selection. MSE:  0.5251614440988952\n",
            "KNeighborsRegressor (K = 20). MSE:  0.4847604449362143\n",
            "KNeighborsRegressor (K = 20) + Selection. MSE:  0.5366741427845025\n"
          ]
        }
      ]
    },
    {
      "cell_type": "markdown",
      "source": [
        "Выводы:\n",
        "\n",
        "1.   После отбора осталось 47 признаков.\n",
        "2.   Предварительный отбор признаков не всегда повышал качество прогноза на тестовой выборке.\n",
        "3.   Лучшее качество прогноза достигнуто на KNN\n",
        "\n",
        "Топ-3 модели прогозирования исхода пациента:\n",
        "> **KNeighborsRegressor (K = 20). MSE:  0.4847604449362143** \n",
        "\n",
        "> **KNeighborsRegressor (K = 15). MSE:  0.5090308677460169** \n",
        "\n",
        "> **KNeighborsRegressor (K = 10). MSE:  0.5147226586197076** "
      ],
      "metadata": {
        "id": "rqEQV7D6IpKm"
      }
    }
  ]
}